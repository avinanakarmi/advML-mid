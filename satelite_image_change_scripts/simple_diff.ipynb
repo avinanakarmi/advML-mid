{
 "cells": [
  {
   "cell_type": "code",
   "execution_count": 24,
   "id": "d61ab9e7-6dd9-466b-aac8-03c9b033a6ef",
   "metadata": {},
   "outputs": [],
   "source": [
    "import cv2\n",
    "import numpy as np\n",
    "\n",
    "def highlight_differences(image1_path, image2_path, output_path):\n",
    "    # Load images\n",
    "    img1 = cv2.imread(image1_path)\n",
    "    img2 = cv2.imread(image2_path)\n",
    "    \n",
    "    # Convert to grayscale\n",
    "    gray1 = cv2.cvtColor(img1, cv2.COLOR_BGR2GRAY)\n",
    "    gray2 = cv2.cvtColor(img2, cv2.COLOR_BGR2GRAY)\n",
    "\n",
    "    min_height = min(gray1.shape[0], gray2.shape[0])\n",
    "    min_width = min(gray1.shape[1], gray2.shape[1])\n",
    "    resized_dims = (min_width, min_height)\n",
    "    gray1 = cv2.resize(gray1, resized_dims, interpolation=cv2.INTER_AREA)\n",
    "    gray2 = cv2.resize(gray2, resized_dims, interpolation=cv2.INTER_AREA)\n",
    "    \n",
    "    # Compute absolute difference\n",
    "    diff = cv2.absdiff(gray1, gray2)\n",
    "\n",
    "    # Threshold the difference\n",
    "    _, thresh = cv2.threshold(diff, 30, 255, cv2.THRESH_BINARY)\n",
    "    \n",
    "    # Highlight differences in red on the original image\n",
    "    diff_highlight = img1.copy()\n",
    "    diff_highlight[np.where(thresh > 0)] = [0, 0, 255]  # Red color\n",
    "    \n",
    "    # Save and show the result\n",
    "    cv2.imwrite(output_path, diff_highlight)\n"
   ]
  },
  {
   "cell_type": "code",
   "execution_count": 25,
   "id": "993a3f83-fb08-4572-aaab-e9791425a824",
   "metadata": {},
   "outputs": [
    {
     "name": "stderr",
     "output_type": "stream",
     "text": [
      "2025-04-02 02:55:16.792 Python[17964:605142] +[IMKClient subclass]: chose IMKClient_Modern\n",
      "2025-04-02 02:55:16.792 Python[17964:605142] +[IMKInputSession subclass]: chose IMKInputSession_Modern\n"
     ]
    }
   ],
   "source": [
    "path = \"../satelite_image_data/\"\n",
    "\n",
    "images = [\n",
    "    {\"before\": \"beijing_old\", \"after\": \"beijing_new\"},\n",
    "    {\"before\": \"philipines_old\", \"after\": \"philipines_new\"},\n",
    "    {\"before\": \"ktm_old\", \"after\": \"ktm_new\"}\n",
    "]\n",
    "\n",
    "for image_pair in images:\n",
    "    highlight_differences(f\"{path}{image_pair[\"before\"]}.png\", f\"{path}{image_pair[\"after\"]}.png\", f\"{path}{image_pair[\"before\"].split(\"_\")[0]}_simple_diff.png\")"
   ]
  },
  {
   "cell_type": "code",
   "execution_count": null,
   "id": "c51ca0cf-a1ca-4f58-b571-fa3465f0d242",
   "metadata": {},
   "outputs": [],
   "source": []
  }
 ],
 "metadata": {
  "kernelspec": {
   "display_name": "Python 3 (ipykernel)",
   "language": "python",
   "name": "python3"
  },
  "language_info": {
   "codemirror_mode": {
    "name": "ipython",
    "version": 3
   },
   "file_extension": ".py",
   "mimetype": "text/x-python",
   "name": "python",
   "nbconvert_exporter": "python",
   "pygments_lexer": "ipython3",
   "version": "3.13.0"
  }
 },
 "nbformat": 4,
 "nbformat_minor": 5
}
